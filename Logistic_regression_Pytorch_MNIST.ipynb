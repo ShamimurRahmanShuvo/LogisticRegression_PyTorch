{
 "cells": [
  {
   "cell_type": "code",
   "execution_count": 1,
   "metadata": {
    "id": "qUm6jsoGWP1a"
   },
   "outputs": [],
   "source": [
    "import torch\n",
    "import torchvision\n",
    "from torchvision.datasets import MNIST"
   ]
  },
  {
   "cell_type": "code",
   "execution_count": 2,
   "metadata": {
    "colab": {
     "base_uri": "https://localhost:8080/",
     "height": 471,
     "referenced_widgets": [
      "9d31ff360de1471c9a509e9ec1f9943e",
      "055b84ff6cf64ffcac4561c28fb1a2b9",
      "ebdecc039731417b853b8fce5366f729",
      "cf2a4f854633430692eb9005bb9c3914",
      "4b4d03dbb6d443f49369a525bdcd26bc",
      "fd8c9c9038cf43d881ea36801f666c1c",
      "06595fc9786446b4afcbcde5504e53c0",
      "7df42ccc30954f59a1930ba5111dbc46",
      "bfe6736034c14d2cb1a29468c92eb45d",
      "9728b1036ce64d1db3606676ecdd43d8",
      "507d53fbace94f34b879d078b3594885",
      "400fe412778a47cc8b8c3a8b308bb43f",
      "a910fa27a9714ec1aaa732e462a46371",
      "4e982bce3e8e4e1c9ea09fc856ed3b0f",
      "33c0bb7d9c0f4a3bb51ec5d4b5939817",
      "65f658835ae74a4f9289d7d533f56f53",
      "cb78005d0be646b78e92c1d5761476b3",
      "9bee2eb26ac145e0870723a8c2463444",
      "dfb157c107044b1997328a5bcf7f0f63",
      "68cd9386f2e04488afdcbc007cdbefed",
      "73571d5337264aa4a24c46970456a2f8",
      "13f61ae87da2412db672990d35970ef6",
      "218ad91b490b416eac6f2f6aadf65d49",
      "ea078484a9174fe9ba99e326dfeb0d94",
      "076a54946d4a46078b984d91549a796d",
      "93409c7549ff439cb98dc20210c890b4",
      "a65741c0042543ea857aedfabefee26a",
      "7bfc0ecca703456ca565c3ecf42c9ab3",
      "cf594125edf745c89a7ec7a661a564f5",
      "34065f089bd8483dbee0fc5d79060afa",
      "1c85235112cb4829a99016164189503e",
      "42138da9e99e45a1b662b2fbbf838693",
      "d48901c72a8942f395862444a1a3f955",
      "b4dfcc9505854865a63c5e76914bfc57",
      "e288c47cc6ff4482aa0f248e87f1b698",
      "eece892c008244b787b8141022c24691",
      "741fdd90e5284075be18ea3777b78dd3",
      "f38bfa3920cd4403b37701ed19db4ed5",
      "ac8f83ab514b4e5296a93a464171ed60",
      "d254d0ac7ef94a57a8c233026f203824",
      "17d381c8d1a343e88e50569e0ae739a3",
      "194a732e5fae4a88a385cfbe2bf3d112",
      "337681e756b64151be574ecb37882410",
      "5b54496652814808bfe56d870aedec75"
     ]
    },
    "id": "VDkOETPmWY5H",
    "outputId": "30c9ea95-7c2a-463f-a982-7afbd2a31fad"
   },
   "outputs": [
    {
     "name": "stdout",
     "output_type": "stream",
     "text": [
      "Downloading http://yann.lecun.com/exdb/mnist/train-images-idx3-ubyte.gz\n",
      "Downloading http://yann.lecun.com/exdb/mnist/train-images-idx3-ubyte.gz to data/MNIST/raw/train-images-idx3-ubyte.gz\n"
     ]
    },
    {
     "data": {
      "application/vnd.jupyter.widget-view+json": {
       "model_id": "9d31ff360de1471c9a509e9ec1f9943e",
       "version_major": 2,
       "version_minor": 0
      },
      "text/plain": [
       "  0%|          | 0/9912422 [00:00<?, ?it/s]"
      ]
     },
     "metadata": {},
     "output_type": "display_data"
    },
    {
     "name": "stdout",
     "output_type": "stream",
     "text": [
      "Extracting data/MNIST/raw/train-images-idx3-ubyte.gz to data/MNIST/raw\n",
      "\n",
      "Downloading http://yann.lecun.com/exdb/mnist/train-labels-idx1-ubyte.gz\n",
      "Downloading http://yann.lecun.com/exdb/mnist/train-labels-idx1-ubyte.gz to data/MNIST/raw/train-labels-idx1-ubyte.gz\n"
     ]
    },
    {
     "data": {
      "application/vnd.jupyter.widget-view+json": {
       "model_id": "400fe412778a47cc8b8c3a8b308bb43f",
       "version_major": 2,
       "version_minor": 0
      },
      "text/plain": [
       "  0%|          | 0/28881 [00:00<?, ?it/s]"
      ]
     },
     "metadata": {},
     "output_type": "display_data"
    },
    {
     "name": "stdout",
     "output_type": "stream",
     "text": [
      "Extracting data/MNIST/raw/train-labels-idx1-ubyte.gz to data/MNIST/raw\n",
      "\n",
      "Downloading http://yann.lecun.com/exdb/mnist/t10k-images-idx3-ubyte.gz\n",
      "Downloading http://yann.lecun.com/exdb/mnist/t10k-images-idx3-ubyte.gz to data/MNIST/raw/t10k-images-idx3-ubyte.gz\n"
     ]
    },
    {
     "data": {
      "application/vnd.jupyter.widget-view+json": {
       "model_id": "218ad91b490b416eac6f2f6aadf65d49",
       "version_major": 2,
       "version_minor": 0
      },
      "text/plain": [
       "  0%|          | 0/1648877 [00:00<?, ?it/s]"
      ]
     },
     "metadata": {},
     "output_type": "display_data"
    },
    {
     "name": "stdout",
     "output_type": "stream",
     "text": [
      "Extracting data/MNIST/raw/t10k-images-idx3-ubyte.gz to data/MNIST/raw\n",
      "\n",
      "Downloading http://yann.lecun.com/exdb/mnist/t10k-labels-idx1-ubyte.gz\n",
      "Downloading http://yann.lecun.com/exdb/mnist/t10k-labels-idx1-ubyte.gz to data/MNIST/raw/t10k-labels-idx1-ubyte.gz\n"
     ]
    },
    {
     "data": {
      "application/vnd.jupyter.widget-view+json": {
       "model_id": "b4dfcc9505854865a63c5e76914bfc57",
       "version_major": 2,
       "version_minor": 0
      },
      "text/plain": [
       "  0%|          | 0/4542 [00:00<?, ?it/s]"
      ]
     },
     "metadata": {},
     "output_type": "display_data"
    },
    {
     "name": "stdout",
     "output_type": "stream",
     "text": [
      "Extracting data/MNIST/raw/t10k-labels-idx1-ubyte.gz to data/MNIST/raw\n",
      "\n"
     ]
    },
    {
     "name": "stderr",
     "output_type": "stream",
     "text": [
      "/usr/local/lib/python3.7/dist-packages/torchvision/datasets/mnist.py:498: UserWarning: The given NumPy array is not writeable, and PyTorch does not support non-writeable tensors. This means you can write to the underlying (supposedly non-writeable) NumPy array using the tensor. You may want to copy the array to protect its data or make it writeable before converting it to a tensor. This type of warning will be suppressed for the rest of this program. (Triggered internally at  /pytorch/torch/csrc/utils/tensor_numpy.cpp:180.)\n",
      "  return torch.from_numpy(parsed.astype(m[2], copy=False)).view(*s)\n"
     ]
    }
   ],
   "source": [
    "#Download Dataset\n",
    "dataset = MNIST(root='data/', download= True)"
   ]
  },
  {
   "cell_type": "code",
   "execution_count": 3,
   "metadata": {
    "colab": {
     "base_uri": "https://localhost:8080/"
    },
    "id": "85tVFmvXWcCV",
    "outputId": "30e3a656-fcaa-41ef-d2f4-f2f20f5c35f1"
   },
   "outputs": [
    {
     "data": {
      "text/plain": [
       "10000"
      ]
     },
     "execution_count": 3,
     "metadata": {},
     "output_type": "execute_result"
    }
   ],
   "source": [
    "#Test Dataset\n",
    "test_dataset = MNIST(root= 'data/', train= False)\n",
    "len(test_dataset)"
   ]
  },
  {
   "cell_type": "code",
   "execution_count": 4,
   "metadata": {
    "id": "4IylwqUwWpKD"
   },
   "outputs": [],
   "source": [
    "import matplotlib.pyplot as plt\n",
    "%matplotlib inline"
   ]
  },
  {
   "cell_type": "code",
   "execution_count": 5,
   "metadata": {
    "colab": {
     "base_uri": "https://localhost:8080/",
     "height": 282
    },
    "id": "yu7r8ybaWzhd",
    "outputId": "d0837386-2382-40df-8c57-73f44daa84f7"
   },
   "outputs": [
    {
     "name": "stdout",
     "output_type": "stream",
     "text": [
      "Label:  5\n"
     ]
    },
    {
     "data": {
      "image/png": "[encoded data removed]",
      "text/plain": [
       "<Figure size 432x288 with 1 Axes>"
      ]
     },
     "metadata": {
      "needs_background": "light"
     },
     "output_type": "display_data"
    }
   ],
   "source": [
    "#Print a sample of data\n",
    "image, label = dataset [0]\n",
    "plt.imshow(image, cmap= 'gray')\n",
    "print('Label: ', label)"
   ]
  },
  {
   "cell_type": "code",
   "execution_count": 6,
   "metadata": {
    "id": "u1lVDPHIW4uc"
   },
   "outputs": [],
   "source": [
    "import torchvision.transforms as transforms"
   ]
  },
  {
   "cell_type": "code",
   "execution_count": 7,
   "metadata": {
    "colab": {
     "base_uri": "https://localhost:8080/"
    },
    "id": "qIFZmEC1XACJ",
    "outputId": "c61cd02b-9b21-4119-9025-246a32831c0e"
   },
   "outputs": [
    {
     "name": "stdout",
     "output_type": "stream",
     "text": [
      "torch.Size([1, 28, 28]) 5\n"
     ]
    }
   ],
   "source": [
    "#Preprocessing (Transform image into Tensor)\n",
    "dataset = MNIST(root='data/',\n",
    "                train = True,\n",
    "                transform = transforms.ToTensor())\n",
    "img_tensor, label = dataset[0]\n",
    "print(img_tensor.shape, label)"
   ]
  },
  {
   "cell_type": "code",
   "execution_count": 8,
   "metadata": {
    "colab": {
     "base_uri": "https://localhost:8080/"
    },
    "id": "GjUbX4H8XQyP",
    "outputId": "9bf4c364-7a9b-4b1e-ef61-1d4e60a5509b"
   },
   "outputs": [
    {
     "data": {
      "text/plain": [
       "(50000, 10000)"
      ]
     },
     "execution_count": 8,
     "metadata": {},
     "output_type": "execute_result"
    }
   ],
   "source": [
    "#Training & Validation set separation\n",
    "from torch.utils.data import random_split\n",
    "\n",
    "train_ds, val_ds = random_split(dataset, [50000, 10000])\n",
    "len(train_ds), len(val_ds)"
   ]
  },
  {
   "cell_type": "code",
   "execution_count": 9,
   "metadata": {
    "id": "8iZ7ahp4aOt-"
   },
   "outputs": [],
   "source": [
    "#Load Data\n",
    "\n",
    "from torch.utils.data import DataLoader\n",
    "\n",
    "batch_size = 128\n",
    "\n",
    "train_loader = DataLoader(train_ds, batch_size, shuffle = True)\n",
    "val_loader = DataLoader(val_ds, batch_size)"
   ]
  },
  {
   "cell_type": "code",
   "execution_count": 10,
   "metadata": {
    "id": "cXPL8BkuXj6o"
   },
   "outputs": [],
   "source": [
    "#Create model\n",
    "import torch.nn as nn\n",
    "\n",
    "input_size = 28 * 28\n",
    "num_classes = 10\n",
    "\n",
    "#Logistic Regression Model\n",
    "model = nn.Linear(input_size, num_classes)"
   ]
  },
  {
   "cell_type": "code",
   "execution_count": 11,
   "metadata": {
    "id": "TWzr-qNNYulT"
   },
   "outputs": [],
   "source": [
    "import torch.nn.functional as F"
   ]
  },
  {
   "cell_type": "code",
   "execution_count": 12,
   "metadata": {
    "id": "kSxnLSpPYvSs"
   },
   "outputs": [],
   "source": [
    "#Create Evaluation Metric\n",
    "\n",
    "def accuracy(outputs, labels):\n",
    "  _, preds = torch.max(outputs, dim = 1)\n",
    "  return torch.tensor(torch.sum(preds == labels).item()/ len(preds))"
   ]
  },
  {
   "cell_type": "code",
   "execution_count": 13,
   "metadata": {
    "id": "_tE2QGZJY63t"
   },
   "outputs": [],
   "source": [
    "# Loss Function\n",
    "\n",
    "loss_fn = F.cross_entropy"
   ]
  },
  {
   "cell_type": "code",
   "execution_count": 14,
   "metadata": {
    "id": "6APsN4ixZA9y"
   },
   "outputs": [],
   "source": [
    "#Training the model\n",
    "\n",
    "def fit(epochs, lr, model, train_loader, val_loader, opt_func = torch.optim.SGD):\n",
    "  optimizer = opt_func(model.parameters(), lr)\n",
    "  history = [] #records epoch-wise results\n",
    "\n",
    "  for epoch in range(epochs):\n",
    "\n",
    "    #training phase\n",
    "    for batch in train_loader:\n",
    "      loss = model.training_step(batch)\n",
    "      loss.backward()\n",
    "      optimizer.step()\n",
    "      optimizer.zero_grad()\n",
    "\n",
    "    #Validation phase\n",
    "    result = evaluate(model, val_loader)\n",
    "    model.epoch_end(epoch, result)\n",
    "    history.append(result)\n",
    "  \n",
    "  return history"
   ]
  },
  {
   "cell_type": "code",
   "execution_count": 15,
   "metadata": {
    "id": "MFXem4W5ZGFn"
   },
   "outputs": [],
   "source": [
    "#Evaluation Function by batch\n",
    "\n",
    "def evaluate(model, val_loader):\n",
    "  outputs = [model.validation_step(batch) for batch in val_loader]\n",
    "  return model.validation_epoch_end(outputs)"
   ]
  },
  {
   "cell_type": "code",
   "execution_count": 17,
   "metadata": {
    "id": "byEO7NIFZPkO"
   },
   "outputs": [],
   "source": [
    "#Create Model\n",
    "\n",
    "class MnistModel(nn.Module):\n",
    "  \n",
    "  #Constructor\n",
    "  def __init__(self):\n",
    "    super().__init__()\n",
    "    self.linear = nn.Linear(input_size, num_classes)\n",
    "\n",
    "  def forward(self, xb):\n",
    "    xb = xb.reshape(-1, 784)\n",
    "    out = self.linear(xb)\n",
    "    return out\n",
    "\n",
    "  def training_step(self, batch):\n",
    "    images, labels = batch\n",
    "    out = self(images)                    #Generate Predictions\n",
    "    loss = F.cross_entropy(out, labels)   #Calculate loss\n",
    "    return loss\n",
    "\n",
    "  def validation_step(self, batch):\n",
    "    images, labels = batch\n",
    "    out = self(images)                    #Generate Predictions\n",
    "    loss = F.cross_entropy(out, labels)   #Calculate loss\n",
    "    acc = accuracy(out, labels)\n",
    "    return {'val_loss': loss, 'val_acc': acc}\n",
    "\n",
    "  def validation_epoch_end(self, outputs):\n",
    "    batch_losses = [x['val_loss'] for x in outputs]\n",
    "    epoch_loss = torch.stack(batch_losses).mean() #Combine losses\n",
    "    batch_accs = [x['val_acc'] for x in outputs]\n",
    "    epoch_acc = torch.stack(batch_accs).mean()   #Combine accuracy\n",
    "    return {'val_loss': epoch_loss.item(), 'val_acc': epoch_acc.item()}\n",
    "\n",
    "  def epoch_end(self, epoch, result):\n",
    "    print(\"Epoch [{}], val_loss: {:.4f}, val_acc: {:.4f}\".format(epoch, result['val_loss'], result['val_acc']))\n",
    "\n",
    "model = MnistModel()\n"
   ]
  },
  {
   "cell_type": "code",
   "execution_count": 31,
   "metadata": {
    "colab": {
     "base_uri": "https://localhost:8080/"
    },
    "id": "gIG5hDZ_Zfes",
    "outputId": "abb5c949-880b-4be4-98cf-001dbfc5f761"
   },
   "outputs": [
    {
     "name": "stdout",
     "output_type": "stream",
     "text": [
      "Epoch [0], val_loss: 1.1982, val_acc: 0.7984\n",
      "Epoch [1], val_loss: 1.1881, val_acc: 0.7995\n",
      "Epoch [2], val_loss: 1.1782, val_acc: 0.7997\n",
      "Epoch [3], val_loss: 1.1686, val_acc: 0.8007\n",
      "Epoch [4], val_loss: 1.1592, val_acc: 0.8016\n",
      "Epoch [5], val_loss: 1.1501, val_acc: 0.8027\n",
      "Epoch [6], val_loss: 1.1411, val_acc: 0.8031\n",
      "Epoch [7], val_loss: 1.1323, val_acc: 0.8045\n",
      "Epoch [8], val_loss: 1.1238, val_acc: 0.8051\n",
      "Epoch [9], val_loss: 1.1154, val_acc: 0.8063\n",
      "Epoch [10], val_loss: 1.1072, val_acc: 0.8069\n",
      "Epoch [11], val_loss: 1.0992, val_acc: 0.8080\n",
      "Epoch [12], val_loss: 1.0913, val_acc: 0.8088\n",
      "Epoch [13], val_loss: 1.0837, val_acc: 0.8101\n",
      "Epoch [14], val_loss: 1.0761, val_acc: 0.8107\n",
      "Epoch [15], val_loss: 1.0688, val_acc: 0.8120\n",
      "Epoch [16], val_loss: 1.0616, val_acc: 0.8124\n",
      "Epoch [17], val_loss: 1.0545, val_acc: 0.8136\n",
      "Epoch [18], val_loss: 1.0476, val_acc: 0.8142\n",
      "Epoch [19], val_loss: 1.0408, val_acc: 0.8147\n",
      "Epoch [20], val_loss: 1.0342, val_acc: 0.8152\n",
      "Epoch [21], val_loss: 1.0277, val_acc: 0.8166\n",
      "Epoch [22], val_loss: 1.0213, val_acc: 0.8171\n",
      "Epoch [23], val_loss: 1.0150, val_acc: 0.8178\n",
      "Epoch [24], val_loss: 1.0089, val_acc: 0.8181\n",
      "Epoch [25], val_loss: 1.0029, val_acc: 0.8187\n",
      "Epoch [26], val_loss: 0.9969, val_acc: 0.8193\n",
      "Epoch [27], val_loss: 0.9911, val_acc: 0.8201\n",
      "Epoch [28], val_loss: 0.9855, val_acc: 0.8204\n",
      "Epoch [29], val_loss: 0.9799, val_acc: 0.8212\n",
      "Epoch [30], val_loss: 0.9744, val_acc: 0.8219\n",
      "Epoch [31], val_loss: 0.9690, val_acc: 0.8222\n",
      "Epoch [32], val_loss: 0.9637, val_acc: 0.8228\n",
      "Epoch [33], val_loss: 0.9585, val_acc: 0.8234\n",
      "Epoch [34], val_loss: 0.9534, val_acc: 0.8240\n",
      "Epoch [35], val_loss: 0.9484, val_acc: 0.8243\n",
      "Epoch [36], val_loss: 0.9435, val_acc: 0.8250\n",
      "Epoch [37], val_loss: 0.9386, val_acc: 0.8259\n",
      "Epoch [38], val_loss: 0.9339, val_acc: 0.8263\n",
      "Epoch [39], val_loss: 0.9292, val_acc: 0.8272\n",
      "Epoch [40], val_loss: 0.9246, val_acc: 0.8274\n",
      "Epoch [41], val_loss: 0.9200, val_acc: 0.8282\n",
      "Epoch [42], val_loss: 0.9156, val_acc: 0.8287\n",
      "Epoch [43], val_loss: 0.9112, val_acc: 0.8287\n",
      "Epoch [44], val_loss: 0.9069, val_acc: 0.8292\n",
      "Epoch [45], val_loss: 0.9027, val_acc: 0.8295\n",
      "Epoch [46], val_loss: 0.8985, val_acc: 0.8298\n",
      "Epoch [47], val_loss: 0.8944, val_acc: 0.8300\n",
      "Epoch [48], val_loss: 0.8903, val_acc: 0.8303\n",
      "Epoch [49], val_loss: 0.8864, val_acc: 0.8307\n",
      "Epoch [50], val_loss: 0.8824, val_acc: 0.8308\n",
      "Epoch [51], val_loss: 0.8786, val_acc: 0.8309\n",
      "Epoch [52], val_loss: 0.8748, val_acc: 0.8314\n",
      "Epoch [53], val_loss: 0.8710, val_acc: 0.8317\n",
      "Epoch [54], val_loss: 0.8674, val_acc: 0.8320\n",
      "Epoch [55], val_loss: 0.8637, val_acc: 0.8325\n",
      "Epoch [56], val_loss: 0.8601, val_acc: 0.8330\n",
      "Epoch [57], val_loss: 0.8566, val_acc: 0.8336\n",
      "Epoch [58], val_loss: 0.8531, val_acc: 0.8340\n",
      "Epoch [59], val_loss: 0.8497, val_acc: 0.8346\n",
      "Epoch [60], val_loss: 0.8463, val_acc: 0.8349\n",
      "Epoch [61], val_loss: 0.8430, val_acc: 0.8353\n",
      "Epoch [62], val_loss: 0.8397, val_acc: 0.8358\n",
      "Epoch [63], val_loss: 0.8365, val_acc: 0.8361\n",
      "Epoch [64], val_loss: 0.8333, val_acc: 0.8366\n",
      "Epoch [65], val_loss: 0.8301, val_acc: 0.8371\n",
      "Epoch [66], val_loss: 0.8270, val_acc: 0.8373\n",
      "Epoch [67], val_loss: 0.8240, val_acc: 0.8376\n",
      "Epoch [68], val_loss: 0.8210, val_acc: 0.8377\n",
      "Epoch [69], val_loss: 0.8180, val_acc: 0.8380\n",
      "Epoch [70], val_loss: 0.8150, val_acc: 0.8385\n",
      "Epoch [71], val_loss: 0.8121, val_acc: 0.8388\n",
      "Epoch [72], val_loss: 0.8093, val_acc: 0.8391\n",
      "Epoch [73], val_loss: 0.8064, val_acc: 0.8392\n",
      "Epoch [74], val_loss: 0.8037, val_acc: 0.8397\n",
      "Epoch [75], val_loss: 0.8009, val_acc: 0.8406\n",
      "Epoch [76], val_loss: 0.7982, val_acc: 0.8407\n",
      "Epoch [77], val_loss: 0.7955, val_acc: 0.8410\n",
      "Epoch [78], val_loss: 0.7928, val_acc: 0.8411\n",
      "Epoch [79], val_loss: 0.7902, val_acc: 0.8416\n",
      "Epoch [80], val_loss: 0.7876, val_acc: 0.8418\n",
      "Epoch [81], val_loss: 0.7851, val_acc: 0.8421\n",
      "Epoch [82], val_loss: 0.7825, val_acc: 0.8423\n",
      "Epoch [83], val_loss: 0.7801, val_acc: 0.8427\n",
      "Epoch [84], val_loss: 0.7776, val_acc: 0.8427\n",
      "Epoch [85], val_loss: 0.7752, val_acc: 0.8427\n",
      "Epoch [86], val_loss: 0.7728, val_acc: 0.8428\n",
      "Epoch [87], val_loss: 0.7704, val_acc: 0.8430\n",
      "Epoch [88], val_loss: 0.7680, val_acc: 0.8433\n",
      "Epoch [89], val_loss: 0.7657, val_acc: 0.8437\n",
      "Epoch [90], val_loss: 0.7634, val_acc: 0.8435\n",
      "Epoch [91], val_loss: 0.7611, val_acc: 0.8435\n",
      "Epoch [92], val_loss: 0.7589, val_acc: 0.8438\n",
      "Epoch [93], val_loss: 0.7567, val_acc: 0.8441\n",
      "Epoch [94], val_loss: 0.7545, val_acc: 0.8443\n",
      "Epoch [95], val_loss: 0.7523, val_acc: 0.8444\n",
      "Epoch [96], val_loss: 0.7502, val_acc: 0.8449\n",
      "Epoch [97], val_loss: 0.7481, val_acc: 0.8451\n",
      "Epoch [98], val_loss: 0.7460, val_acc: 0.8453\n",
      "Epoch [99], val_loss: 0.7439, val_acc: 0.8453\n"
     ]
    }
   ],
   "source": [
    "#Training the model and saving the results\n",
    "epoch = 100\n",
    "learning_rate = 0.0001\n",
    "history1 = fit(epoch, learning_rate, model, train_loader, val_loader)"
   ]
  },
  {
   "cell_type": "code",
   "execution_count": 32,
   "metadata": {
    "colab": {
     "base_uri": "https://localhost:8080/",
     "height": 312
    },
    "id": "gVups2ZVZ4Gp",
    "outputId": "fb64e18e-7a6f-4ef7-f700-5a736d18a05a"
   },
   "outputs": [
    {
     "data": {
      "text/plain": [
       "Text(0.5, 1.0, 'Accuracy vs No of epochs')"
      ]
     },
     "execution_count": 32,
     "metadata": {},
     "output_type": "execute_result"
    },
    {
     "data": {
      "image/png": "[encoded data removed]",
      "text/plain": [
       "<Figure size 432x288 with 1 Axes>"
      ]
     },
     "metadata": {
      "needs_background": "light"
     },
     "output_type": "display_data"
    }
   ],
   "source": [
    "# Plot training progress\n",
    "\n",
    "history = history1\n",
    "accuracies = [result['val_acc'] for result in history]\n",
    "plt.plot(accuracies, '-x')\n",
    "plt.xlabel('epoch')\n",
    "plt.ylabel('accuracy')\n",
    "plt.title('Accuracy vs No of epochs')"
   ]
  },
  {
   "cell_type": "code",
   "execution_count": 33,
   "metadata": {
    "id": "aXKyQpHdatJS"
   },
   "outputs": [],
   "source": [
    "#Predicting images\n",
    "\n",
    "def predict_image(img, model):\n",
    "  xb = img.unsqueeze(0)\n",
    "  yb = model(xb)\n",
    "  _, preds = torch.max(yb, dim = 1)\n",
    "  return preds[0].item()"
   ]
  },
  {
   "cell_type": "code",
   "execution_count": 34,
   "metadata": {
    "id": "wEV0sccXc4RQ"
   },
   "outputs": [],
   "source": [
    "#Testing with Individual Images\n",
    "test_dataset = MNIST(root='data/',\n",
    "                     train = False,\n",
    "                     transform = transforms.ToTensor())"
   ]
  },
  {
   "cell_type": "code",
   "execution_count": 35,
   "metadata": {
    "colab": {
     "base_uri": "https://localhost:8080/"
    },
    "id": "eQ8gF9FSbVlu",
    "outputId": "24043732-5ca8-4310-87b2-6c6cb15d2b9f"
   },
   "outputs": [
    {
     "name": "stdout",
     "output_type": "stream",
     "text": [
      "Testing Accuracy:  0.849804699420929 Testing Loss:  0.7224603891372681\n"
     ]
    }
   ],
   "source": [
    "#Load the test dataset and transform to tensor\n",
    "test_dataset = MNIST(root='data/',\n",
    "                     train = False,\n",
    "                     transform = transforms.ToTensor())\n",
    "\n",
    "#Evaluate on test data\n",
    "test_loader = DataLoader(test_dataset, batch_size= 256)\n",
    "result = evaluate(model, test_loader)\n",
    "print('Testing Accuracy: ', result['val_acc'], 'Testing Loss: ', result['val_loss'])"
   ]
  },
  {
   "cell_type": "code",
   "execution_count": 36,
   "metadata": {
    "id": "beouyC3adFk9"
   },
   "outputs": [],
   "source": [
    "#Saving trained model (weights and bias)\n",
    "\n",
    "torch.save(model.state_dict(), 'mnist-logistic.pth')"
   ]
  },
  {
   "cell_type": "code",
   "execution_count": 37,
   "metadata": {
    "colab": {
     "base_uri": "https://localhost:8080/"
    },
    "id": "7mGShRmAdQ9i",
    "outputId": "a3ab9563-8cd9-414d-f771-511ed717876a"
   },
   "outputs": [
    {
     "data": {
      "text/plain": [
       "OrderedDict([('linear.weight',\n",
       "              tensor([[ 0.0278, -0.0028, -0.0206,  ..., -0.0187, -0.0025,  0.0087],\n",
       "                      [ 0.0356,  0.0120,  0.0326,  ...,  0.0325, -0.0170,  0.0246],\n",
       "                      [-0.0308, -0.0133, -0.0193,  ..., -0.0119,  0.0074,  0.0336],\n",
       "                      ...,\n",
       "                      [ 0.0168,  0.0322,  0.0283,  ..., -0.0154, -0.0133,  0.0248],\n",
       "                      [ 0.0184, -0.0003, -0.0172,  ...,  0.0138,  0.0250,  0.0126],\n",
       "                      [-0.0064,  0.0015,  0.0026,  ..., -0.0098,  0.0007, -0.0259]])),\n",
       "             ('linear.bias',\n",
       "              tensor([-0.0111,  0.1135,  0.0120, -0.0060,  0.0231,  0.0585, -0.0141,  0.0231,\n",
       "                      -0.0753, -0.0307]))])"
      ]
     },
     "execution_count": 37,
     "metadata": {},
     "output_type": "execute_result"
    }
   ],
   "source": [
    "#Check the model parameter\n",
    "model.state_dict()"
   ]
  },
  {
   "cell_type": "code",
   "execution_count": 38,
   "metadata": {
    "colab": {
     "base_uri": "https://localhost:8080/"
    },
    "id": "nw2B0uNAdV2c",
    "outputId": "5058b77a-878e-4865-88d7-a3d3eca9dc8f"
   },
   "outputs": [
    {
     "data": {
      "text/plain": [
       "OrderedDict([('linear.weight',\n",
       "              tensor([[ 0.0278, -0.0028, -0.0206,  ..., -0.0187, -0.0025,  0.0087],\n",
       "                      [ 0.0356,  0.0120,  0.0326,  ...,  0.0325, -0.0170,  0.0246],\n",
       "                      [-0.0308, -0.0133, -0.0193,  ..., -0.0119,  0.0074,  0.0336],\n",
       "                      ...,\n",
       "                      [ 0.0168,  0.0322,  0.0283,  ..., -0.0154, -0.0133,  0.0248],\n",
       "                      [ 0.0184, -0.0003, -0.0172,  ...,  0.0138,  0.0250,  0.0126],\n",
       "                      [-0.0064,  0.0015,  0.0026,  ..., -0.0098,  0.0007, -0.0259]])),\n",
       "             ('linear.bias',\n",
       "              tensor([-0.0111,  0.1135,  0.0120, -0.0060,  0.0231,  0.0585, -0.0141,  0.0231,\n",
       "                      -0.0753, -0.0307]))])"
      ]
     },
     "execution_count": 38,
     "metadata": {},
     "output_type": "execute_result"
    }
   ],
   "source": [
    "#Loading the saved model\n",
    "\n",
    "model2 = MnistModel()\n",
    "model2.load_state_dict(torch.load('mnist-logistic.pth'))\n",
    "model2.state_dict()"
   ]
  },
  {
   "cell_type": "code",
   "execution_count": 39,
   "metadata": {
    "colab": {
     "base_uri": "https://localhost:8080/"
    },
    "id": "KZbJCsfoddFX",
    "outputId": "35e644fd-9fc7-4d36-bdf5-3d969dce687f"
   },
   "outputs": [
    {
     "name": "stdout",
     "output_type": "stream",
     "text": [
      "Testing Accuracy:  0.849804699420929 Testing Loss:  0.7224603891372681\n"
     ]
    }
   ],
   "source": [
    "# Check existing model\n",
    "\n",
    "test_loader = DataLoader(test_dataset, batch_size= 256)\n",
    "result = evaluate(model2, test_loader)\n",
    "print('Testing Accuracy: ', result['val_acc'], 'Testing Loss: ', result['val_loss'])"
   ]
  },
  {
   "cell_type": "code",
   "execution_count": null,
   "metadata": {
    "id": "fIHmc14Ndkys"
   },
   "outputs": [],
   "source": []
  }
 ],
 "metadata": {
  "colab": {
   "collapsed_sections": [],
   "name": "Logistic_regression_Pytorch_MNIST.ipynb",
   "provenance": []
  },
  "kernelspec": {
   "display_name": "Python 3",
   "language": "python",
   "name": "python3"
  },
  "language_info": {
   "codemirror_mode": {
    "name": "ipython",
    "version": 3
   },
   "file_extension": ".py",
   "mimetype": "text/x-python",
   "name": "python",
   "nbconvert_exporter": "python",
   "pygments_lexer": "ipython3",
   "version": "3.7.6"
  },
  "widgets": {
   "application/vnd.jupyter.widget-state+json": {
    "055b84ff6cf64ffcac4561c28fb1a2b9": {
     "model_module": "@jupyter-widgets/base",
     "model_module_version": "1.2.0",
     "model_name": "LayoutModel",
     "state": {
      "_model_module": "@jupyter-widgets/base",
      "_model_module_version": "1.2.0",
      "_model_name": "LayoutModel",
      "_view_count": null,
      "_view_module": "@jupyter-widgets/base",
      "_view_module_version": "1.2.0",
      "_view_name": "LayoutView",
      "align_content": null,
      "align_items": null,
      "align_self": null,
      "border": null,
      "bottom": null,
      "display": null,
      "flex": null,
      "flex_flow": null,
      "grid_area": null,
      "grid_auto_columns": null,
      "grid_auto_flow": null,
      "grid_auto_rows": null,
      "grid_column": null,
      "grid_gap": null,
      "grid_row": null,
      "grid_template_areas": null,
      "grid_template_columns": null,
      "grid_template_rows": null,
      "height": null,
      "justify_content": null,
      "justify_items": null,
      "left": null,
      "margin": null,
      "max_height": null,
      "max_width": null,
      "min_height": null,
      "min_width": null,
      "object_fit": null,
      "object_position": null,
      "order": null,
      "overflow": null,
      "overflow_x": null,
      "overflow_y": null,
      "padding": null,
      "right": null,
      "top": null,
      "visibility": null,
      "width": null
     }
    },
    "06595fc9786446b4afcbcde5504e53c0": {
     "model_module": "@jupyter-widgets/base",
     "model_module_version": "1.2.0",
     "model_name": "LayoutModel",
     "state": {
      "_model_module": "@jupyter-widgets/base",
      "_model_module_version": "1.2.0",
      "_model_name": "LayoutModel",
      "_view_count": null,
      "_view_module": "@jupyter-widgets/base",
      "_view_module_version": "1.2.0",
      "_view_name": "LayoutView",
      "align_content": null,
      "align_items": null,
      "align_self": null,
      "border": null,
      "bottom": null,
      "display": null,
      "flex": null,
      "flex_flow": null,
      "grid_area": null,
      "grid_auto_columns": null,
      "grid_auto_flow": null,
      "grid_auto_rows": null,
      "grid_column": null,
      "grid_gap": null,
      "grid_row": null,
      "grid_template_areas": null,
      "grid_template_columns": null,
      "grid_template_rows": null,
      "height": null,
      "justify_content": null,
      "justify_items": null,
      "left": null,
      "margin": null,
      "max_height": null,
      "max_width": null,
      "min_height": null,
      "min_width": null,
      "object_fit": null,
      "object_position": null,
      "order": null,
      "overflow": null,
      "overflow_x": null,
      "overflow_y": null,
      "padding": null,
      "right": null,
      "top": null,
      "visibility": null,
      "width": null
     }
    },
    "076a54946d4a46078b984d91549a796d": {
     "model_module": "@jupyter-widgets/controls",
     "model_module_version": "1.5.0",
     "model_name": "HTMLModel",
     "state": {
      "_dom_classes": [],
      "_model_module": "@jupyter-widgets/controls",
      "_model_module_version": "1.5.0",
      "_model_name": "HTMLModel",
      "_view_count": null,
      "_view_module": "@jupyter-widgets/controls",
      "_view_module_version": "1.5.0",
      "_view_name": "HTMLView",
      "description": "",
      "description_tooltip": null,
      "layout": "IPY_MODEL_cf594125edf745c89a7ec7a661a564f5",
      "placeholder": "​",
      "style": "IPY_MODEL_7bfc0ecca703456ca565c3ecf42c9ab3",
      "value": ""
     }
    },
    "13f61ae87da2412db672990d35970ef6": {
     "model_module": "@jupyter-widgets/base",
     "model_module_version": "1.2.0",
     "model_name": "LayoutModel",
     "state": {
      "_model_module": "@jupyter-widgets/base",
      "_model_module_version": "1.2.0",
      "_model_name": "LayoutModel",
      "_view_count": null,
      "_view_module": "@jupyter-widgets/base",
      "_view_module_version": "1.2.0",
      "_view_name": "LayoutView",
      "align_content": null,
      "align_items": null,
      "align_self": null,
      "border": null,
      "bottom": null,
      "display": null,
      "flex": null,
      "flex_flow": null,
      "grid_area": null,
      "grid_auto_columns": null,
      "grid_auto_flow": null,
      "grid_auto_rows": null,
      "grid_column": null,
      "grid_gap": null,
      "grid_row": null,
      "grid_template_areas": null,
      "grid_template_columns": null,
      "grid_template_rows": null,
      "height": null,
      "justify_content": null,
      "justify_items": null,
      "left": null,
      "margin": null,
      "max_height": null,
      "max_width": null,
      "min_height": null,
      "min_width": null,
      "object_fit": null,
      "object_position": null,
      "order": null,
      "overflow": null,
      "overflow_x": null,
      "overflow_y": null,
      "padding": null,
      "right": null,
      "top": null,
      "visibility": null,
      "width": null
     }
    },
    "17d381c8d1a343e88e50569e0ae739a3": {
     "model_module": "@jupyter-widgets/controls",
     "model_module_version": "1.5.0",
     "model_name": "ProgressStyleModel",
     "state": {
      "_model_module": "@jupyter-widgets/controls",
      "_model_module_version": "1.5.0",
      "_model_name": "ProgressStyleModel",
      "_view_count": null,
      "_view_module": "@jupyter-widgets/base",
      "_view_module_version": "1.2.0",
      "_view_name": "StyleView",
      "bar_color": null,
      "description_width": ""
     }
    },
    "194a732e5fae4a88a385cfbe2bf3d112": {
     "model_module": "@jupyter-widgets/base",
     "model_module_version": "1.2.0",
     "model_name": "LayoutModel",
     "state": {
      "_model_module": "@jupyter-widgets/base",
      "_model_module_version": "1.2.0",
      "_model_name": "LayoutModel",
      "_view_count": null,
      "_view_module": "@jupyter-widgets/base",
      "_view_module_version": "1.2.0",
      "_view_name": "LayoutView",
      "align_content": null,
      "align_items": null,
      "align_self": null,
      "border": null,
      "bottom": null,
      "display": null,
      "flex": null,
      "flex_flow": null,
      "grid_area": null,
      "grid_auto_columns": null,
      "grid_auto_flow": null,
      "grid_auto_rows": null,
      "grid_column": null,
      "grid_gap": null,
      "grid_row": null,
      "grid_template_areas": null,
      "grid_template_columns": null,
      "grid_template_rows": null,
      "height": null,
      "justify_content": null,
      "justify_items": null,
      "left": null,
      "margin": null,
      "max_height": null,
      "max_width": null,
      "min_height": null,
      "min_width": null,
      "object_fit": null,
      "object_position": null,
      "order": null,
      "overflow": null,
      "overflow_x": null,
      "overflow_y": null,
      "padding": null,
      "right": null,
      "top": null,
      "visibility": null,
      "width": null
     }
    },
    "1c85235112cb4829a99016164189503e": {
     "model_module": "@jupyter-widgets/base",
     "model_module_version": "1.2.0",
     "model_name": "LayoutModel",
     "state": {
      "_model_module": "@jupyter-widgets/base",
      "_model_module_version": "1.2.0",
      "_model_name": "LayoutModel",
      "_view_count": null,
      "_view_module": "@jupyter-widgets/base",
      "_view_module_version": "1.2.0",
      "_view_name": "LayoutView",
      "align_content": null,
      "align_items": null,
      "align_self": null,
      "border": null,
      "bottom": null,
      "display": null,
      "flex": null,
      "flex_flow": null,
      "grid_area": null,
      "grid_auto_columns": null,
      "grid_auto_flow": null,
      "grid_auto_rows": null,
      "grid_column": null,
      "grid_gap": null,
      "grid_row": null,
      "grid_template_areas": null,
      "grid_template_columns": null,
      "grid_template_rows": null,
      "height": null,
      "justify_content": null,
      "justify_items": null,
      "left": null,
      "margin": null,
      "max_height": null,
      "max_width": null,
      "min_height": null,
      "min_width": null,
      "object_fit": null,
      "object_position": null,
      "order": null,
      "overflow": null,
      "overflow_x": null,
      "overflow_y": null,
      "padding": null,
      "right": null,
      "top": null,
      "visibility": null,
      "width": null
     }
    },
    "218ad91b490b416eac6f2f6aadf65d49": {
     "model_module": "@jupyter-widgets/controls",
     "model_module_version": "1.5.0",
     "model_name": "HBoxModel",
     "state": {
      "_dom_classes": [],
      "_model_module": "@jupyter-widgets/controls",
      "_model_module_version": "1.5.0",
      "_model_name": "HBoxModel",
      "_view_count": null,
      "_view_module": "@jupyter-widgets/controls",
      "_view_module_version": "1.5.0",
      "_view_name": "HBoxView",
      "box_style": "",
      "children": [
       "IPY_MODEL_076a54946d4a46078b984d91549a796d",
       "IPY_MODEL_93409c7549ff439cb98dc20210c890b4",
       "IPY_MODEL_a65741c0042543ea857aedfabefee26a"
      ],
      "layout": "IPY_MODEL_ea078484a9174fe9ba99e326dfeb0d94"
     }
    },
    "337681e756b64151be574ecb37882410": {
     "model_module": "@jupyter-widgets/controls",
     "model_module_version": "1.5.0",
     "model_name": "DescriptionStyleModel",
     "state": {
      "_model_module": "@jupyter-widgets/controls",
      "_model_module_version": "1.5.0",
      "_model_name": "DescriptionStyleModel",
      "_view_count": null,
      "_view_module": "@jupyter-widgets/base",
      "_view_module_version": "1.2.0",
      "_view_name": "StyleView",
      "description_width": ""
     }
    },
    "33c0bb7d9c0f4a3bb51ec5d4b5939817": {
     "model_module": "@jupyter-widgets/controls",
     "model_module_version": "1.5.0",
     "model_name": "FloatProgressModel",
     "state": {
      "_dom_classes": [],
      "_model_module": "@jupyter-widgets/controls",
      "_model_module_version": "1.5.0",
      "_model_name": "FloatProgressModel",
      "_view_count": null,
      "_view_module": "@jupyter-widgets/controls",
      "_view_module_version": "1.5.0",
      "_view_name": "ProgressView",
      "bar_style": "success",
      "description": "",
      "description_tooltip": null,
      "layout": "IPY_MODEL_68cd9386f2e04488afdcbc007cdbefed",
      "max": 28881,
      "min": 0,
      "orientation": "horizontal",
      "style": "IPY_MODEL_dfb157c107044b1997328a5bcf7f0f63",
      "value": 28881
     }
    },
    "34065f089bd8483dbee0fc5d79060afa": {
     "model_module": "@jupyter-widgets/controls",
     "model_module_version": "1.5.0",
     "model_name": "ProgressStyleModel",
     "state": {
      "_model_module": "@jupyter-widgets/controls",
      "_model_module_version": "1.5.0",
      "_model_name": "ProgressStyleModel",
      "_view_count": null,
      "_view_module": "@jupyter-widgets/base",
      "_view_module_version": "1.2.0",
      "_view_name": "StyleView",
      "bar_color": null,
      "description_width": ""
     }
    },
    "400fe412778a47cc8b8c3a8b308bb43f": {
     "model_module": "@jupyter-widgets/controls",
     "model_module_version": "1.5.0",
     "model_name": "HBoxModel",
     "state": {
      "_dom_classes": [],
      "_model_module": "@jupyter-widgets/controls",
      "_model_module_version": "1.5.0",
      "_model_name": "HBoxModel",
      "_view_count": null,
      "_view_module": "@jupyter-widgets/controls",
      "_view_module_version": "1.5.0",
      "_view_name": "HBoxView",
      "box_style": "",
      "children": [
       "IPY_MODEL_4e982bce3e8e4e1c9ea09fc856ed3b0f",
       "IPY_MODEL_33c0bb7d9c0f4a3bb51ec5d4b5939817",
       "IPY_MODEL_65f658835ae74a4f9289d7d533f56f53"
      ],
      "layout": "IPY_MODEL_a910fa27a9714ec1aaa732e462a46371"
     }
    },
    "42138da9e99e45a1b662b2fbbf838693": {
     "model_module": "@jupyter-widgets/controls",
     "model_module_version": "1.5.0",
     "model_name": "DescriptionStyleModel",
     "state": {
      "_model_module": "@jupyter-widgets/controls",
      "_model_module_version": "1.5.0",
      "_model_name": "DescriptionStyleModel",
      "_view_count": null,
      "_view_module": "@jupyter-widgets/base",
      "_view_module_version": "1.2.0",
      "_view_name": "StyleView",
      "description_width": ""
     }
    },
    "4b4d03dbb6d443f49369a525bdcd26bc": {
     "model_module": "@jupyter-widgets/controls",
     "model_module_version": "1.5.0",
     "model_name": "HTMLModel",
     "state": {
      "_dom_classes": [],
      "_model_module": "@jupyter-widgets/controls",
      "_model_module_version": "1.5.0",
      "_model_name": "HTMLModel",
      "_view_count": null,
      "_view_module": "@jupyter-widgets/controls",
      "_view_module_version": "1.5.0",
      "_view_name": "HTMLView",
      "description": "",
      "description_tooltip": null,
      "layout": "IPY_MODEL_507d53fbace94f34b879d078b3594885",
      "placeholder": "​",
      "style": "IPY_MODEL_9728b1036ce64d1db3606676ecdd43d8",
      "value": " 9913344/? [00:00&lt;00:00, 40869543.30it/s]"
     }
    },
    "4e982bce3e8e4e1c9ea09fc856ed3b0f": {
     "model_module": "@jupyter-widgets/controls",
     "model_module_version": "1.5.0",
     "model_name": "HTMLModel",
     "state": {
      "_dom_classes": [],
      "_model_module": "@jupyter-widgets/controls",
      "_model_module_version": "1.5.0",
      "_model_name": "HTMLModel",
      "_view_count": null,
      "_view_module": "@jupyter-widgets/controls",
      "_view_module_version": "1.5.0",
      "_view_name": "HTMLView",
      "description": "",
      "description_tooltip": null,
      "layout": "IPY_MODEL_9bee2eb26ac145e0870723a8c2463444",
      "placeholder": "​",
      "style": "IPY_MODEL_cb78005d0be646b78e92c1d5761476b3",
      "value": ""
     }
    },
    "507d53fbace94f34b879d078b3594885": {
     "model_module": "@jupyter-widgets/base",
     "model_module_version": "1.2.0",
     "model_name": "LayoutModel",
     "state": {
      "_model_module": "@jupyter-widgets/base",
      "_model_module_version": "1.2.0",
      "_model_name": "LayoutModel",
      "_view_count": null,
      "_view_module": "@jupyter-widgets/base",
      "_view_module_version": "1.2.0",
      "_view_name": "LayoutView",
      "align_content": null,
      "align_items": null,
      "align_self": null,
      "border": null,
      "bottom": null,
      "display": null,
      "flex": null,
      "flex_flow": null,
      "grid_area": null,
      "grid_auto_columns": null,
      "grid_auto_flow": null,
      "grid_auto_rows": null,
      "grid_column": null,
      "grid_gap": null,
      "grid_row": null,
      "grid_template_areas": null,
      "grid_template_columns": null,
      "grid_template_rows": null,
      "height": null,
      "justify_content": null,
      "justify_items": null,
      "left": null,
      "margin": null,
      "max_height": null,
      "max_width": null,
      "min_height": null,
      "min_width": null,
      "object_fit": null,
      "object_position": null,
      "order": null,
      "overflow": null,
      "overflow_x": null,
      "overflow_y": null,
      "padding": null,
      "right": null,
      "top": null,
      "visibility": null,
      "width": null
     }
    },
    "5b54496652814808bfe56d870aedec75": {
     "model_module": "@jupyter-widgets/base",
     "model_module_version": "1.2.0",
     "model_name": "LayoutModel",
     "state": {
      "_model_module": "@jupyter-widgets/base",
      "_model_module_version": "1.2.0",
      "_model_name": "LayoutModel",
      "_view_count": null,
      "_view_module": "@jupyter-widgets/base",
      "_view_module_version": "1.2.0",
      "_view_name": "LayoutView",
      "align_content": null,
      "align_items": null,
      "align_self": null,
      "border": null,
      "bottom": null,
      "display": null,
      "flex": null,
      "flex_flow": null,
      "grid_area": null,
      "grid_auto_columns": null,
      "grid_auto_flow": null,
      "grid_auto_rows": null,
      "grid_column": null,
      "grid_gap": null,
      "grid_row": null,
      "grid_template_areas": null,
      "grid_template_columns": null,
      "grid_template_rows": null,
      "height": null,
      "justify_content": null,
      "justify_items": null,
      "left": null,
      "margin": null,
      "max_height": null,
      "max_width": null,
      "min_height": null,
      "min_width": null,
      "object_fit": null,
      "object_position": null,
      "order": null,
      "overflow": null,
      "overflow_x": null,
      "overflow_y": null,
      "padding": null,
      "right": null,
      "top": null,
      "visibility": null,
      "width": null
     }
    },
    "65f658835ae74a4f9289d7d533f56f53": {
     "model_module": "@jupyter-widgets/controls",
     "model_module_version": "1.5.0",
     "model_name": "HTMLModel",
     "state": {
      "_dom_classes": [],
      "_model_module": "@jupyter-widgets/controls",
      "_model_module_version": "1.5.0",
      "_model_name": "HTMLModel",
      "_view_count": null,
      "_view_module": "@jupyter-widgets/controls",
      "_view_module_version": "1.5.0",
      "_view_name": "HTMLView",
      "description": "",
      "description_tooltip": null,
      "layout": "IPY_MODEL_13f61ae87da2412db672990d35970ef6",
      "placeholder": "​",
      "style": "IPY_MODEL_73571d5337264aa4a24c46970456a2f8",
      "value": " 29696/? [00:00&lt;00:00, 606359.15it/s]"
     }
    },
    "68cd9386f2e04488afdcbc007cdbefed": {
     "model_module": "@jupyter-widgets/base",
     "model_module_version": "1.2.0",
     "model_name": "LayoutModel",
     "state": {
      "_model_module": "@jupyter-widgets/base",
      "_model_module_version": "1.2.0",
      "_model_name": "LayoutModel",
      "_view_count": null,
      "_view_module": "@jupyter-widgets/base",
      "_view_module_version": "1.2.0",
      "_view_name": "LayoutView",
      "align_content": null,
      "align_items": null,
      "align_self": null,
      "border": null,
      "bottom": null,
      "display": null,
      "flex": null,
      "flex_flow": null,
      "grid_area": null,
      "grid_auto_columns": null,
      "grid_auto_flow": null,
      "grid_auto_rows": null,
      "grid_column": null,
      "grid_gap": null,
      "grid_row": null,
      "grid_template_areas": null,
      "grid_template_columns": null,
      "grid_template_rows": null,
      "height": null,
      "justify_content": null,
      "justify_items": null,
      "left": null,
      "margin": null,
      "max_height": null,
      "max_width": null,
      "min_height": null,
      "min_width": null,
      "object_fit": null,
      "object_position": null,
      "order": null,
      "overflow": null,
      "overflow_x": null,
      "overflow_y": null,
      "padding": null,
      "right": null,
      "top": null,
      "visibility": null,
      "width": null
     }
    },
    "73571d5337264aa4a24c46970456a2f8": {
     "model_module": "@jupyter-widgets/controls",
     "model_module_version": "1.5.0",
     "model_name": "DescriptionStyleModel",
     "state": {
      "_model_module": "@jupyter-widgets/controls",
      "_model_module_version": "1.5.0",
      "_model_name": "DescriptionStyleModel",
      "_view_count": null,
      "_view_module": "@jupyter-widgets/base",
      "_view_module_version": "1.2.0",
      "_view_name": "StyleView",
      "description_width": ""
     }
    },
    "741fdd90e5284075be18ea3777b78dd3": {
     "model_module": "@jupyter-widgets/controls",
     "model_module_version": "1.5.0",
     "model_name": "FloatProgressModel",
     "state": {
      "_dom_classes": [],
      "_model_module": "@jupyter-widgets/controls",
      "_model_module_version": "1.5.0",
      "_model_name": "FloatProgressModel",
      "_view_count": null,
      "_view_module": "@jupyter-widgets/controls",
      "_view_module_version": "1.5.0",
      "_view_name": "ProgressView",
      "bar_style": "success",
      "description": "",
      "description_tooltip": null,
      "layout": "IPY_MODEL_194a732e5fae4a88a385cfbe2bf3d112",
      "max": 4542,
      "min": 0,
      "orientation": "horizontal",
      "style": "IPY_MODEL_17d381c8d1a343e88e50569e0ae739a3",
      "value": 4542
     }
    },
    "7bfc0ecca703456ca565c3ecf42c9ab3": {
     "model_module": "@jupyter-widgets/controls",
     "model_module_version": "1.5.0",
     "model_name": "DescriptionStyleModel",
     "state": {
      "_model_module": "@jupyter-widgets/controls",
      "_model_module_version": "1.5.0",
      "_model_name": "DescriptionStyleModel",
      "_view_count": null,
      "_view_module": "@jupyter-widgets/base",
      "_view_module_version": "1.2.0",
      "_view_name": "StyleView",
      "description_width": ""
     }
    },
    "7df42ccc30954f59a1930ba5111dbc46": {
     "model_module": "@jupyter-widgets/controls",
     "model_module_version": "1.5.0",
     "model_name": "ProgressStyleModel",
     "state": {
      "_model_module": "@jupyter-widgets/controls",
      "_model_module_version": "1.5.0",
      "_model_name": "ProgressStyleModel",
      "_view_count": null,
      "_view_module": "@jupyter-widgets/base",
      "_view_module_version": "1.2.0",
      "_view_name": "StyleView",
      "bar_color": null,
      "description_width": ""
     }
    },
    "93409c7549ff439cb98dc20210c890b4": {
     "model_module": "@jupyter-widgets/controls",
     "model_module_version": "1.5.0",
     "model_name": "FloatProgressModel",
     "state": {
      "_dom_classes": [],
      "_model_module": "@jupyter-widgets/controls",
      "_model_module_version": "1.5.0",
      "_model_name": "FloatProgressModel",
      "_view_count": null,
      "_view_module": "@jupyter-widgets/controls",
      "_view_module_version": "1.5.0",
      "_view_name": "ProgressView",
      "bar_style": "success",
      "description": "",
      "description_tooltip": null,
      "layout": "IPY_MODEL_1c85235112cb4829a99016164189503e",
      "max": 1648877,
      "min": 0,
      "orientation": "horizontal",
      "style": "IPY_MODEL_34065f089bd8483dbee0fc5d79060afa",
      "value": 1648877
     }
    },
    "9728b1036ce64d1db3606676ecdd43d8": {
     "model_module": "@jupyter-widgets/controls",
     "model_module_version": "1.5.0",
     "model_name": "DescriptionStyleModel",
     "state": {
      "_model_module": "@jupyter-widgets/controls",
      "_model_module_version": "1.5.0",
      "_model_name": "DescriptionStyleModel",
      "_view_count": null,
      "_view_module": "@jupyter-widgets/base",
      "_view_module_version": "1.2.0",
      "_view_name": "StyleView",
      "description_width": ""
     }
    },
    "9bee2eb26ac145e0870723a8c2463444": {
     "model_module": "@jupyter-widgets/base",
     "model_module_version": "1.2.0",
     "model_name": "LayoutModel",
     "state": {
      "_model_module": "@jupyter-widgets/base",
      "_model_module_version": "1.2.0",
      "_model_name": "LayoutModel",
      "_view_count": null,
      "_view_module": "@jupyter-widgets/base",
      "_view_module_version": "1.2.0",
      "_view_name": "LayoutView",
      "align_content": null,
      "align_items": null,
      "align_self": null,
      "border": null,
      "bottom": null,
      "display": null,
      "flex": null,
      "flex_flow": null,
      "grid_area": null,
      "grid_auto_columns": null,
      "grid_auto_flow": null,
      "grid_auto_rows": null,
      "grid_column": null,
      "grid_gap": null,
      "grid_row": null,
      "grid_template_areas": null,
      "grid_template_columns": null,
      "grid_template_rows": null,
      "height": null,
      "justify_content": null,
      "justify_items": null,
      "left": null,
      "margin": null,
      "max_height": null,
      "max_width": null,
      "min_height": null,
      "min_width": null,
      "object_fit": null,
      "object_position": null,
      "order": null,
      "overflow": null,
      "overflow_x": null,
      "overflow_y": null,
      "padding": null,
      "right": null,
      "top": null,
      "visibility": null,
      "width": null
     }
    },
    "9d31ff360de1471c9a509e9ec1f9943e": {
     "model_module": "@jupyter-widgets/controls",
     "model_module_version": "1.5.0",
     "model_name": "HBoxModel",
     "state": {
      "_dom_classes": [],
      "_model_module": "@jupyter-widgets/controls",
      "_model_module_version": "1.5.0",
      "_model_name": "HBoxModel",
      "_view_count": null,
      "_view_module": "@jupyter-widgets/controls",
      "_view_module_version": "1.5.0",
      "_view_name": "HBoxView",
      "box_style": "",
      "children": [
       "IPY_MODEL_ebdecc039731417b853b8fce5366f729",
       "IPY_MODEL_cf2a4f854633430692eb9005bb9c3914",
       "IPY_MODEL_4b4d03dbb6d443f49369a525bdcd26bc"
      ],
      "layout": "IPY_MODEL_055b84ff6cf64ffcac4561c28fb1a2b9"
     }
    },
    "a65741c0042543ea857aedfabefee26a": {
     "model_module": "@jupyter-widgets/controls",
     "model_module_version": "1.5.0",
     "model_name": "HTMLModel",
     "state": {
      "_dom_classes": [],
      "_model_module": "@jupyter-widgets/controls",
      "_model_module_version": "1.5.0",
      "_model_name": "HTMLModel",
      "_view_count": null,
      "_view_module": "@jupyter-widgets/controls",
      "_view_module_version": "1.5.0",
      "_view_name": "HTMLView",
      "description": "",
      "description_tooltip": null,
      "layout": "IPY_MODEL_d48901c72a8942f395862444a1a3f955",
      "placeholder": "​",
      "style": "IPY_MODEL_42138da9e99e45a1b662b2fbbf838693",
      "value": " 1649664/? [00:00&lt;00:00, 11343574.55it/s]"
     }
    },
    "a910fa27a9714ec1aaa732e462a46371": {
     "model_module": "@jupyter-widgets/base",
     "model_module_version": "1.2.0",
     "model_name": "LayoutModel",
     "state": {
      "_model_module": "@jupyter-widgets/base",
      "_model_module_version": "1.2.0",
      "_model_name": "LayoutModel",
      "_view_count": null,
      "_view_module": "@jupyter-widgets/base",
      "_view_module_version": "1.2.0",
      "_view_name": "LayoutView",
      "align_content": null,
      "align_items": null,
      "align_self": null,
      "border": null,
      "bottom": null,
      "display": null,
      "flex": null,
      "flex_flow": null,
      "grid_area": null,
      "grid_auto_columns": null,
      "grid_auto_flow": null,
      "grid_auto_rows": null,
      "grid_column": null,
      "grid_gap": null,
      "grid_row": null,
      "grid_template_areas": null,
      "grid_template_columns": null,
      "grid_template_rows": null,
      "height": null,
      "justify_content": null,
      "justify_items": null,
      "left": null,
      "margin": null,
      "max_height": null,
      "max_width": null,
      "min_height": null,
      "min_width": null,
      "object_fit": null,
      "object_position": null,
      "order": null,
      "overflow": null,
      "overflow_x": null,
      "overflow_y": null,
      "padding": null,
      "right": null,
      "top": null,
      "visibility": null,
      "width": null
     }
    },
    "ac8f83ab514b4e5296a93a464171ed60": {
     "model_module": "@jupyter-widgets/controls",
     "model_module_version": "1.5.0",
     "model_name": "DescriptionStyleModel",
     "state": {
      "_model_module": "@jupyter-widgets/controls",
      "_model_module_version": "1.5.0",
      "_model_name": "DescriptionStyleModel",
      "_view_count": null,
      "_view_module": "@jupyter-widgets/base",
      "_view_module_version": "1.2.0",
      "_view_name": "StyleView",
      "description_width": ""
     }
    },
    "b4dfcc9505854865a63c5e76914bfc57": {
     "model_module": "@jupyter-widgets/controls",
     "model_module_version": "1.5.0",
     "model_name": "HBoxModel",
     "state": {
      "_dom_classes": [],
      "_model_module": "@jupyter-widgets/controls",
      "_model_module_version": "1.5.0",
      "_model_name": "HBoxModel",
      "_view_count": null,
      "_view_module": "@jupyter-widgets/controls",
      "_view_module_version": "1.5.0",
      "_view_name": "HBoxView",
      "box_style": "",
      "children": [
       "IPY_MODEL_eece892c008244b787b8141022c24691",
       "IPY_MODEL_741fdd90e5284075be18ea3777b78dd3",
       "IPY_MODEL_f38bfa3920cd4403b37701ed19db4ed5"
      ],
      "layout": "IPY_MODEL_e288c47cc6ff4482aa0f248e87f1b698"
     }
    },
    "bfe6736034c14d2cb1a29468c92eb45d": {
     "model_module": "@jupyter-widgets/base",
     "model_module_version": "1.2.0",
     "model_name": "LayoutModel",
     "state": {
      "_model_module": "@jupyter-widgets/base",
      "_model_module_version": "1.2.0",
      "_model_name": "LayoutModel",
      "_view_count": null,
      "_view_module": "@jupyter-widgets/base",
      "_view_module_version": "1.2.0",
      "_view_name": "LayoutView",
      "align_content": null,
      "align_items": null,
      "align_self": null,
      "border": null,
      "bottom": null,
      "display": null,
      "flex": null,
      "flex_flow": null,
      "grid_area": null,
      "grid_auto_columns": null,
      "grid_auto_flow": null,
      "grid_auto_rows": null,
      "grid_column": null,
      "grid_gap": null,
      "grid_row": null,
      "grid_template_areas": null,
      "grid_template_columns": null,
      "grid_template_rows": null,
      "height": null,
      "justify_content": null,
      "justify_items": null,
      "left": null,
      "margin": null,
      "max_height": null,
      "max_width": null,
      "min_height": null,
      "min_width": null,
      "object_fit": null,
      "object_position": null,
      "order": null,
      "overflow": null,
      "overflow_x": null,
      "overflow_y": null,
      "padding": null,
      "right": null,
      "top": null,
      "visibility": null,
      "width": null
     }
    },
    "cb78005d0be646b78e92c1d5761476b3": {
     "model_module": "@jupyter-widgets/controls",
     "model_module_version": "1.5.0",
     "model_name": "DescriptionStyleModel",
     "state": {
      "_model_module": "@jupyter-widgets/controls",
      "_model_module_version": "1.5.0",
      "_model_name": "DescriptionStyleModel",
      "_view_count": null,
      "_view_module": "@jupyter-widgets/base",
      "_view_module_version": "1.2.0",
      "_view_name": "StyleView",
      "description_width": ""
     }
    },
    "cf2a4f854633430692eb9005bb9c3914": {
     "model_module": "@jupyter-widgets/controls",
     "model_module_version": "1.5.0",
     "model_name": "FloatProgressModel",
     "state": {
      "_dom_classes": [],
      "_model_module": "@jupyter-widgets/controls",
      "_model_module_version": "1.5.0",
      "_model_name": "FloatProgressModel",
      "_view_count": null,
      "_view_module": "@jupyter-widgets/controls",
      "_view_module_version": "1.5.0",
      "_view_name": "ProgressView",
      "bar_style": "success",
      "description": "",
      "description_tooltip": null,
      "layout": "IPY_MODEL_bfe6736034c14d2cb1a29468c92eb45d",
      "max": 9912422,
      "min": 0,
      "orientation": "horizontal",
      "style": "IPY_MODEL_7df42ccc30954f59a1930ba5111dbc46",
      "value": 9912422
     }
    },
    "cf594125edf745c89a7ec7a661a564f5": {
     "model_module": "@jupyter-widgets/base",
     "model_module_version": "1.2.0",
     "model_name": "LayoutModel",
     "state": {
      "_model_module": "@jupyter-widgets/base",
      "_model_module_version": "1.2.0",
      "_model_name": "LayoutModel",
      "_view_count": null,
      "_view_module": "@jupyter-widgets/base",
      "_view_module_version": "1.2.0",
      "_view_name": "LayoutView",
      "align_content": null,
      "align_items": null,
      "align_self": null,
      "border": null,
      "bottom": null,
      "display": null,
      "flex": null,
      "flex_flow": null,
      "grid_area": null,
      "grid_auto_columns": null,
      "grid_auto_flow": null,
      "grid_auto_rows": null,
      "grid_column": null,
      "grid_gap": null,
      "grid_row": null,
      "grid_template_areas": null,
      "grid_template_columns": null,
      "grid_template_rows": null,
      "height": null,
      "justify_content": null,
      "justify_items": null,
      "left": null,
      "margin": null,
      "max_height": null,
      "max_width": null,
      "min_height": null,
      "min_width": null,
      "object_fit": null,
      "object_position": null,
      "order": null,
      "overflow": null,
      "overflow_x": null,
      "overflow_y": null,
      "padding": null,
      "right": null,
      "top": null,
      "visibility": null,
      "width": null
     }
    },
    "d254d0ac7ef94a57a8c233026f203824": {
     "model_module": "@jupyter-widgets/base",
     "model_module_version": "1.2.0",
     "model_name": "LayoutModel",
     "state": {
      "_model_module": "@jupyter-widgets/base",
      "_model_module_version": "1.2.0",
      "_model_name": "LayoutModel",
      "_view_count": null,
      "_view_module": "@jupyter-widgets/base",
      "_view_module_version": "1.2.0",
      "_view_name": "LayoutView",
      "align_content": null,
      "align_items": null,
      "align_self": null,
      "border": null,
      "bottom": null,
      "display": null,
      "flex": null,
      "flex_flow": null,
      "grid_area": null,
      "grid_auto_columns": null,
      "grid_auto_flow": null,
      "grid_auto_rows": null,
      "grid_column": null,
      "grid_gap": null,
      "grid_row": null,
      "grid_template_areas": null,
      "grid_template_columns": null,
      "grid_template_rows": null,
      "height": null,
      "justify_content": null,
      "justify_items": null,
      "left": null,
      "margin": null,
      "max_height": null,
      "max_width": null,
      "min_height": null,
      "min_width": null,
      "object_fit": null,
      "object_position": null,
      "order": null,
      "overflow": null,
      "overflow_x": null,
      "overflow_y": null,
      "padding": null,
      "right": null,
      "top": null,
      "visibility": null,
      "width": null
     }
    },
    "d48901c72a8942f395862444a1a3f955": {
     "model_module": "@jupyter-widgets/base",
     "model_module_version": "1.2.0",
     "model_name": "LayoutModel",
     "state": {
      "_model_module": "@jupyter-widgets/base",
      "_model_module_version": "1.2.0",
      "_model_name": "LayoutModel",
      "_view_count": null,
      "_view_module": "@jupyter-widgets/base",
      "_view_module_version": "1.2.0",
      "_view_name": "LayoutView",
      "align_content": null,
      "align_items": null,
      "align_self": null,
      "border": null,
      "bottom": null,
      "display": null,
      "flex": null,
      "flex_flow": null,
      "grid_area": null,
      "grid_auto_columns": null,
      "grid_auto_flow": null,
      "grid_auto_rows": null,
      "grid_column": null,
      "grid_gap": null,
      "grid_row": null,
      "grid_template_areas": null,
      "grid_template_columns": null,
      "grid_template_rows": null,
      "height": null,
      "justify_content": null,
      "justify_items": null,
      "left": null,
      "margin": null,
      "max_height": null,
      "max_width": null,
      "min_height": null,
      "min_width": null,
      "object_fit": null,
      "object_position": null,
      "order": null,
      "overflow": null,
      "overflow_x": null,
      "overflow_y": null,
      "padding": null,
      "right": null,
      "top": null,
      "visibility": null,
      "width": null
     }
    },
    "dfb157c107044b1997328a5bcf7f0f63": {
     "model_module": "@jupyter-widgets/controls",
     "model_module_version": "1.5.0",
     "model_name": "ProgressStyleModel",
     "state": {
      "_model_module": "@jupyter-widgets/controls",
      "_model_module_version": "1.5.0",
      "_model_name": "ProgressStyleModel",
      "_view_count": null,
      "_view_module": "@jupyter-widgets/base",
      "_view_module_version": "1.2.0",
      "_view_name": "StyleView",
      "bar_color": null,
      "description_width": ""
     }
    },
    "e288c47cc6ff4482aa0f248e87f1b698": {
     "model_module": "@jupyter-widgets/base",
     "model_module_version": "1.2.0",
     "model_name": "LayoutModel",
     "state": {
      "_model_module": "@jupyter-widgets/base",
      "_model_module_version": "1.2.0",
      "_model_name": "LayoutModel",
      "_view_count": null,
      "_view_module": "@jupyter-widgets/base",
      "_view_module_version": "1.2.0",
      "_view_name": "LayoutView",
      "align_content": null,
      "align_items": null,
      "align_self": null,
      "border": null,
      "bottom": null,
      "display": null,
      "flex": null,
      "flex_flow": null,
      "grid_area": null,
      "grid_auto_columns": null,
      "grid_auto_flow": null,
      "grid_auto_rows": null,
      "grid_column": null,
      "grid_gap": null,
      "grid_row": null,
      "grid_template_areas": null,
      "grid_template_columns": null,
      "grid_template_rows": null,
      "height": null,
      "justify_content": null,
      "justify_items": null,
      "left": null,
      "margin": null,
      "max_height": null,
      "max_width": null,
      "min_height": null,
      "min_width": null,
      "object_fit": null,
      "object_position": null,
      "order": null,
      "overflow": null,
      "overflow_x": null,
      "overflow_y": null,
      "padding": null,
      "right": null,
      "top": null,
      "visibility": null,
      "width": null
     }
    },
    "ea078484a9174fe9ba99e326dfeb0d94": {
     "model_module": "@jupyter-widgets/base",
     "model_module_version": "1.2.0",
     "model_name": "LayoutModel",
     "state": {
      "_model_module": "@jupyter-widgets/base",
      "_model_module_version": "1.2.0",
      "_model_name": "LayoutModel",
      "_view_count": null,
      "_view_module": "@jupyter-widgets/base",
      "_view_module_version": "1.2.0",
      "_view_name": "LayoutView",
      "align_content": null,
      "align_items": null,
      "align_self": null,
      "border": null,
      "bottom": null,
      "display": null,
      "flex": null,
      "flex_flow": null,
      "grid_area": null,
      "grid_auto_columns": null,
      "grid_auto_flow": null,
      "grid_auto_rows": null,
      "grid_column": null,
      "grid_gap": null,
      "grid_row": null,
      "grid_template_areas": null,
      "grid_template_columns": null,
      "grid_template_rows": null,
      "height": null,
      "justify_content": null,
      "justify_items": null,
      "left": null,
      "margin": null,
      "max_height": null,
      "max_width": null,
      "min_height": null,
      "min_width": null,
      "object_fit": null,
      "object_position": null,
      "order": null,
      "overflow": null,
      "overflow_x": null,
      "overflow_y": null,
      "padding": null,
      "right": null,
      "top": null,
      "visibility": null,
      "width": null
     }
    },
    "ebdecc039731417b853b8fce5366f729": {
     "model_module": "@jupyter-widgets/controls",
     "model_module_version": "1.5.0",
     "model_name": "HTMLModel",
     "state": {
      "_dom_classes": [],
      "_model_module": "@jupyter-widgets/controls",
      "_model_module_version": "1.5.0",
      "_model_name": "HTMLModel",
      "_view_count": null,
      "_view_module": "@jupyter-widgets/controls",
      "_view_module_version": "1.5.0",
      "_view_name": "HTMLView",
      "description": "",
      "description_tooltip": null,
      "layout": "IPY_MODEL_06595fc9786446b4afcbcde5504e53c0",
      "placeholder": "​",
      "style": "IPY_MODEL_fd8c9c9038cf43d881ea36801f666c1c",
      "value": ""
     }
    },
    "eece892c008244b787b8141022c24691": {
     "model_module": "@jupyter-widgets/controls",
     "model_module_version": "1.5.0",
     "model_name": "HTMLModel",
     "state": {
      "_dom_classes": [],
      "_model_module": "@jupyter-widgets/controls",
      "_model_module_version": "1.5.0",
      "_model_name": "HTMLModel",
      "_view_count": null,
      "_view_module": "@jupyter-widgets/controls",
      "_view_module_version": "1.5.0",
      "_view_name": "HTMLView",
      "description": "",
      "description_tooltip": null,
      "layout": "IPY_MODEL_d254d0ac7ef94a57a8c233026f203824",
      "placeholder": "​",
      "style": "IPY_MODEL_ac8f83ab514b4e5296a93a464171ed60",
      "value": ""
     }
    },
    "f38bfa3920cd4403b37701ed19db4ed5": {
     "model_module": "@jupyter-widgets/controls",
     "model_module_version": "1.5.0",
     "model_name": "HTMLModel",
     "state": {
      "_dom_classes": [],
      "_model_module": "@jupyter-widgets/controls",
      "_model_module_version": "1.5.0",
      "_model_name": "HTMLModel",
      "_view_count": null,
      "_view_module": "@jupyter-widgets/controls",
      "_view_module_version": "1.5.0",
      "_view_name": "HTMLView",
      "description": "",
      "description_tooltip": null,
      "layout": "IPY_MODEL_5b54496652814808bfe56d870aedec75",
      "placeholder": "​",
      "style": "IPY_MODEL_337681e756b64151be574ecb37882410",
      "value": " 5120/? [00:00&lt;00:00, 93077.88it/s]"
     }
    },
    "fd8c9c9038cf43d881ea36801f666c1c": {
     "model_module": "@jupyter-widgets/controls",
     "model_module_version": "1.5.0",
     "model_name": "DescriptionStyleModel",
     "state": {
      "_model_module": "@jupyter-widgets/controls",
      "_model_module_version": "1.5.0",
      "_model_name": "DescriptionStyleModel",
      "_view_count": null,
      "_view_module": "@jupyter-widgets/base",
      "_view_module_version": "1.2.0",
      "_view_name": "StyleView",
      "description_width": ""
     }
    }
   }
  }
 },
 "nbformat": 4,
 "nbformat_minor": 1
}
